{
 "cells": [
  {
   "cell_type": "code",
   "execution_count": 1,
   "metadata": {},
   "outputs": [],
   "source": [
    "%matplotlib inline\n",
    "from matplotlib import style\n",
    "style.use('fivethirtyeight')\n",
    "import matplotlib.pyplot as plt"
   ]
  },
  {
   "cell_type": "code",
   "execution_count": 2,
   "metadata": {},
   "outputs": [],
   "source": [
    "import numpy as np\n",
    "import pandas as pd"
   ]
  },
  {
   "cell_type": "code",
   "execution_count": 3,
   "metadata": {},
   "outputs": [],
   "source": [
    "import datetime as dt"
   ]
  },
  {
   "cell_type": "markdown",
   "metadata": {},
   "source": [
    "# Reflect Tables into SQLAlchemy ORM"
   ]
  },
  {
   "cell_type": "code",
   "execution_count": 4,
   "metadata": {},
   "outputs": [],
   "source": [
    "# Python SQL toolkit and Object Relational Mapper\n",
    "import sqlalchemy\n",
    "from sqlalchemy.ext.automap import automap_base\n",
    "from sqlalchemy.orm import Session\n",
    "from sqlalchemy import create_engine, func"
   ]
  },
  {
   "cell_type": "code",
   "execution_count": 5,
   "metadata": {},
   "outputs": [],
   "source": [
    "# create engine\n"
    "engine = create_engine(\"sqlite:///Resources/hawaii.sqlite\")"
   ]
  },
  {
   "cell_type": "code",
   "execution_count": 6,
   "metadata": {},
   "outputs": [],
   "source": [
    "# reflect an existing database into a new model\n",
    "Base = automap_base()\n",
    "\n",
    "# reflect the tables\n",
    "Base.prepare(engine, reflect = True)"
   ]
  },
  {
   "cell_type": "code",
   "execution_count": 7,
   "metadata": {},
   "outputs": [
    {
     "data": {
      "text/plain": [
       "['measurement', 'station']"
      ]
     },
     "execution_count": 7,
     "metadata": {},
     "output_type": "execute_result"
    }
   ],
   "source": [
    "# We can view all of the classes that automap found\n",
    "Base.classes.keys()\n"
   ]
  },
  {
   "cell_type": "code",
   "execution_count": 8,
   "metadata": {},
   "outputs": [],
   "source": [
    "# Save references to each table\n",
    "Measurements = Base.classes.measurement\n",
    "Stations = Base.classes.station\n"
   ]
  },
  {
   "cell_type": "code",
   "execution_count": 9,
   "metadata": {},
   "outputs": [],
   "source": [
    "# Create our session (link) from Python to the DB\n",
    "session = Session(engine)\n"
   ]
  },
  {
   "cell_type": "markdown",
   "metadata": {},
   "source": [
    "# Exploratory Climate Analysis"
   ]
  },
  {
   "cell_type": "code",
   "execution_count": 10,
   "metadata": {},
   "outputs": [
    {
     "data": {
      "text/html": [
       "<div>\n",
       "<style scoped>\n",
       "    .dataframe tbody tr th:only-of-type {\n",
       "        vertical-align: middle;\n",
       "    }\n",
       "\n",
       "    .dataframe tbody tr th {\n",
       "        vertical-align: top;\n",
       "    }\n",
       "\n",
       "    .dataframe thead th {\n",
       "        text-align: right;\n",
       "    }\n",
       "</style>\n",
       "<table border=\"1\" class=\"dataframe\">\n",
       "  <thead>\n",
       "    <tr style=\"text-align: right;\">\n",
       "      <th></th>\n",
       "      <th>Precipitation</th>\n",
       "    </tr>\n",
       "    <tr>\n",
       "      <th>Date</th>\n",
       "      <th></th>\n",
       "    </tr>\n",
       "  </thead>\n",
       "  <tbody>\n",
       "    <tr>\n",
       "      <th>2016-08-23</th>\n",
       "      <td>0.00</td>\n",
       "    </tr>\n",
       "    <tr>\n",
       "      <th>2016-08-23</th>\n",
       "      <td>0.15</td>\n",
       "    </tr>\n",
       "    <tr>\n",
       "      <th>2016-08-23</th>\n",
       "      <td>0.05</td>\n",
       "    </tr>\n",
       "    <tr>\n",
       "      <th>2016-08-23</th>\n",
       "      <td>0.02</td>\n",
       "    </tr>\n",
       "    <tr>\n",
       "      <th>2016-08-23</th>\n",
       "      <td>1.79</td>\n",
       "    </tr>\n",
       "    <tr>\n",
       "      <th>...</th>\n",
       "      <td>...</td>\n",
       "    </tr>\n",
       "    <tr>\n",
       "      <th>2017-08-22</th>\n",
       "      <td>0.00</td>\n",
       "    </tr>\n",
       "    <tr>\n",
       "      <th>2017-08-23</th>\n",
       "      <td>0.00</td>\n",
       "    </tr>\n",
       "    <tr>\n",
       "      <th>2017-08-23</th>\n",
       "      <td>0.08</td>\n",
       "    </tr>\n",
       "    <tr>\n",
       "      <th>2017-08-23</th>\n",
       "      <td>0.00</td>\n",
       "    </tr>\n",
       "    <tr>\n",
       "      <th>2017-08-23</th>\n",
       "      <td>0.45</td>\n",
       "    </tr>\n",
       "  </tbody>\n",
       "</table>\n",
       "<p>2021 rows × 1 columns</p>\n",
       "</div>"
      ],
      "text/plain": [
       "            Precipitation\n",
       "Date                     \n",
       "2016-08-23           0.00\n",
       "2016-08-23           0.15\n",
       "2016-08-23           0.05\n",
       "2016-08-23           0.02\n",
       "2016-08-23           1.79\n",
       "...                   ...\n",
       "2017-08-22           0.00\n",
       "2017-08-23           0.00\n",
       "2017-08-23           0.08\n",
       "2017-08-23           0.00\n",
       "2017-08-23           0.45\n",
       "\n",
       "[2021 rows x 1 columns]"
      ]
     },
     "execution_count": 10,
     "metadata": {},
     "output_type": "execute_result"
    }
   ],
   "source": [
    "# Design a query to retrieve the last 12 months of precipitation data and plot the results\n",
    "\n",
    "\n",
    "# Calculate the date 1 year ago from the last data point in the database\n",
    "last_date = session.query(Measurements.date).order_by(Measurements.date.desc()).first()\n",
    "previous_date = '2016-08-23'\n",
    "# Perform a query to retrieve the data and precipitation scores\n",
    "precipitation_scores = session.query(Measurements.date,Measurements.prcp).\\\n",
    "filter(Measurements.date >= previous_date).order_by(Measurements.date).all()\n",
    "precipitation_scores\n",
    "# Save the query results as a Pandas DataFrame and set the index to the date column\n",
    "results = pd.DataFrame(precipitation_scores, columns = [\"Date\", \"Precipitation\"])\n",
    "results\n",
    "# Sort the dataframe by date\n",
    "results = results.dropna()\n",
    "results.set_index('Date', inplace = True)\n",
    "results = results.sort_values(by = 'Date')\n",
    "results\n",
    "\n"
   ]
  },
  {
   "cell_type": "code",
   "execution_count": 11,
   "metadata": {},
   "outputs": [
    {
     "data": {
      "text/plain": [
       "(array([-250.,    0.,  250.,  500.,  750., 1000., 1250., 1500., 1750.,\n",
       "        2000., 2250.]),\n",
       " <a list of 11 Text major ticklabel objects>)"
      ]
     },
     "execution_count": 11,
     "metadata": {},
     "output_type": "execute_result"
    },
    {
     "data": {
      "image/png": "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\n",
      "text/plain": [
       "<Figure size 1080x576 with 1 Axes>"
      ]
     },
     "metadata": {},
     "output_type": "display_data"
    }
   ],
   "source": [
    "# Use Pandas Plotting with Matplotlib to plot the data\n",
    "results.plot(figsize = (15,8))\n",
    "plt.xticks(rotation =90)\n"
   ]
  },
  {
   "cell_type": "code",
   "execution_count": 12,
   "metadata": {},
   "outputs": [
    {
     "data": {
      "text/html": [
       "<div>\n",
       "<style scoped>\n",
       "    .dataframe tbody tr th:only-of-type {\n",
       "        vertical-align: middle;\n",
       "    }\n",
       "\n",
       "    .dataframe tbody tr th {\n",
       "        vertical-align: top;\n",
       "    }\n",
       "\n",
       "    .dataframe thead th {\n",
       "        text-align: right;\n",
       "    }\n",
       "</style>\n",
       "<table border=\"1\" class=\"dataframe\">\n",
       "  <thead>\n",
       "    <tr style=\"text-align: right;\">\n",
       "      <th></th>\n",
       "      <th>Precipitation</th>\n",
       "    </tr>\n",
       "  </thead>\n",
       "  <tbody>\n",
       "    <tr>\n",
       "      <th>count</th>\n",
       "      <td>2021.000000</td>\n",
       "    </tr>\n",
       "    <tr>\n",
       "      <th>mean</th>\n",
       "      <td>0.177279</td>\n",
       "    </tr>\n",
       "    <tr>\n",
       "      <th>std</th>\n",
       "      <td>0.461190</td>\n",
       "    </tr>\n",
       "    <tr>\n",
       "      <th>min</th>\n",
       "      <td>0.000000</td>\n",
       "    </tr>\n",
       "    <tr>\n",
       "      <th>25%</th>\n",
       "      <td>0.000000</td>\n",
       "    </tr>\n",
       "    <tr>\n",
       "      <th>50%</th>\n",
       "      <td>0.020000</td>\n",
       "    </tr>\n",
       "    <tr>\n",
       "      <th>75%</th>\n",
       "      <td>0.130000</td>\n",
       "    </tr>\n",
       "    <tr>\n",
       "      <th>max</th>\n",
       "      <td>6.700000</td>\n",
       "    </tr>\n",
       "  </tbody>\n",
       "</table>\n",
       "</div>"
      ],
      "text/plain": [
       "       Precipitation\n",
       "count    2021.000000\n",
       "mean        0.177279\n",
       "std         0.461190\n",
       "min         0.000000\n",
       "25%         0.000000\n",
       "50%         0.020000\n",
       "75%         0.130000\n",
       "max         6.700000"
      ]
     },
     "execution_count": 12,
     "metadata": {},
     "output_type": "execute_result"
    }
   ],
   "source": [
    "# Use Pandas to calcualte the summary statistics for the precipitation data\n",
    "results.describe()"
   ]
  },
  {
   "cell_type": "code",
   "execution_count": 13,
   "metadata": {},
   "outputs": [
    {
     "data": {
      "text/plain": [
       "(9)"
      ]
     },
     "execution_count": 13,
     "metadata": {},
     "output_type": "execute_result"
    }
   ],
   "source": [
    "# Design a query to show how many stations are available in this dataset?\n",
    "number_stations = session.query(func.count(Stations.station)).one()\n",
    "number_stations"
   ]
  },
  {
   "cell_type": "code",
   "execution_count": 13,
   "metadata": {},
   "outputs": [
    {
     "data": {
      "text/plain": [
       "[('USC00519281', 2772),\n",
       " ('USC00519397', 2724),\n",
       " ('USC00513117', 2709),\n",
       " ('USC00519523', 2669),\n",
       " ('USC00516128', 2612),\n",
       " ('USC00514830', 2202),\n",
       " ('USC00511918', 1979),\n",
       " ('USC00517948', 1372),\n",
       " ('USC00518838', 511)]"
      ]
     },
     "execution_count": 13,
     "metadata": {},
     "output_type": "execute_result"
    }
   ],
   "source": [
    "# What are the most active stations? (i.e. what stations have the most rows)?\n",
    "# List the stations and the counts in descending order.\n",
    "max_stations = session.query(Measurements.station,func.count(Measurements.station)).group_by(Measurements.station).\\\n",
    "order_by(func.count(Measurements.station).desc()).all()\n",
    "max_stations"
   ]
  },
  {
   "cell_type": "code",
   "execution_count": 14,
   "metadata": {},
   "outputs": [
    {
     "data": {
      "text/plain": [
       "[(54.0, 71.66378066378067, 85.0)]"
      ]
     },
     "execution_count": 14,
     "metadata": {},
     "output_type": "execute_result"
    }
   ],
   "source": [
    "# Using the station id from the previous query, calculate the lowest temperature recorded, \n",
    "# highest temperature recorded, and average temperature of the most active station?\n",
    "most_active = 'USC00519281'\n",
    "temp_info = session.query(func.min(Measurements.tobs), func.avg(Measurements.tobs), func.max(Measurements.tobs)).\\\n",
    "filter(Measurements.station == most_active).all()\n",
    "\n",
    "temp_info"
   ]
  },
  {
   "cell_type": "code",
   "execution_count": 15,
   "metadata": {},
   "outputs": [
    {
     "data": {
      "text/plain": [
       "array([[<matplotlib.axes._subplots.AxesSubplot object at 0x1233b5668>]],\n",
       "      dtype=object)"
      ]
     },
     "execution_count": 15,
     "metadata": {},
     "output_type": "execute_result"
    },
    {
     "data": {
      "image/png": "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\n",
      "text/plain": [
       "<Figure size 432x288 with 1 Axes>"
      ]
     },
     "metadata": {},
     "output_type": "display_data"
    }
   ],
   "source": [
    "# Choose the station with the highest number of temperature observations.\n",
    "highest_temp = session.query(Measurements.station, Measurements.tobs).filter(Measurements.station == most_active).\\\n",
    "filter(Measurements.date >= previous_date).all()\n",
    "highest_temp\n",
    "# Query the last 12 months of temperature observation data for this station and plot the results as a histogram\n",
    "temp_df = pd.DataFrame(highest_temp, columns = [\"Station\",\"Temperature\"])\n",
    "temp_df\n",
    "\n",
    "temp_df.hist()"
   ]
  },
  {
   "cell_type": "markdown",
   "metadata": {},
   "source": [
    "## Bonus Challenge Assignment"
   ]
  },
  {
   "cell_type": "code",
   "execution_count": 16,
   "metadata": {},
   "outputs": [
    {
     "name": "stdout",
     "output_type": "stream",
     "text": [
      "[(62.0, 69.57142857142857, 74.0)]\n"
     ]
    }
   ],
   "source": [
    "# This function called `calc_temps` will accept start date and end date in the format '%Y-%m-%d' \n",
    "# and return the minimum, average, and maximum temperatures for that range of dates\n",
    "def calc_temps(start_date, end_date):\n",
    "    \"\"\"TMIN, TAVG, and TMAX for a list of dates.\n",
    "    \n",
    "    Args:\n",
    "        start_date (string): A date string in the format %Y-%m-%d\n",
    "        end_date (string): A date string in the format %Y-%m-%d\n",
    "        \n",
    "    Returns:\n",
    "        TMIN, TAVE, and TMAX\n",
    "    \"\"\"\n",
    "    \n",
    "    return session.query(func.min(Measurements.tobs), func.avg(Measurements.tobs), func.max(Measurements.tobs)).\\\n",
    "        filter(Measurements.date >= start_date).filter(Measurements.date <= end_date).all()\n",
    "\n",
    "# function usage example\n",
    "print(calc_temps('2012-02-28', '2012-03-05')) "
   ]
  },
  {
   "cell_type": "code",
   "execution_count": 17,
   "metadata": {},
   "outputs": [],
   "source": [
    "# Use your previous function `calc_temps` to calculate the tmin, tavg, and tmax \n",
    "# for your trip using the previous year's data for those same dates.\n",
    "trip = calc_temps('2017-07-01','2017-07-14')"
   ]
  },
  {
   "cell_type": "code",
   "execution_count": 22,
   "metadata": {},
   "outputs": [
    {
     "data": {
      "image/png": "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\n",
      "text/plain": [
       "<Figure size 360x504 with 1 Axes>"
      ]
     },
     "metadata": {},
     "output_type": "display_data"
    }
   ],
   "source": [
    "# Plot the results from your previous query as a bar chart. \n",
    "# Use \"Trip Avg Temp\" as your Title\n",
    "# Use the average temperature for the y value\n",
    "# Use the peak-to-peak (tmax-tmin) value as the y error bar (yerr)\n",
    "trip_df = pd.DataFrame(trip, columns=['tmin', 'tavg', 'tmax'])\n",
    "trip_df.plot.bar(y='tavg', yerr=(trip_df['tmax'] - trip_df['tmin']), title='Avg Temp For Trip', color='blue', alpha=0.5, figsize=(5,7))\n",
    "plt.xticks(np.arange(1, 1.0))\n",
    "plt.ylabel(\"Temp (F)\")\n",
    "plt.tight_layout()\n",
    "plt.gca().legend_.remove()\n",
    "plt.show()"
   ]
  },
  {
   "cell_type": "code",
   "execution_count": 23,
   "metadata": {},
   "outputs": [
    {
     "name": "stdout",
     "output_type": "stream",
     "text": [
      "[('USC00516128', 'MANOA LYON ARBO 785.2, HI US', 21.3331, -157.8025, 152.4, 0.1), ('USC00519281', 'WAIHEE 837.5, HI US', 21.45167, -157.84888999999998, 32.9, 0.08), ('USC00513117', 'KANEOHE 838.1, HI US', 21.4234, -157.8015, 14.6, 0.06), ('USC00519397', 'WAIKIKI 717.2, HI US', 21.2716, -157.8168, 3.0, 0.02), ('USC00519523', 'WAIMANALO EXPERIMENTAL FARM, HI US', 21.33556, -157.71139, 19.5, None), ('USC00517948', 'PEARL CITY, HI US', 21.3934, -157.9751, 11.9, None), ('USC00514830', 'KUALOA RANCH HEADQUARTERS 886.9, HI US', 21.5213, -157.8374, 7.0, None)]\n"
     ]
    }
   ],
   "source": [
    "# Calculate the total amount of rainfall per weather station for your trip dates using the previous year's matching dates.\n",
    "# Sort this in descending order by precipitation amount and list the station, name, latitude, longitude, and elevation\n",
    "def precipitation(start_date, end_date):\n",
    "    sel = [Measurements.station, \n",
    "           Stations.name, \n",
    "           Stations.latitude, \n",
    "           Stations.longitude, \n",
    "           Stations.elevation, \n",
    "           Measurements.prcp]\n",
    "    return session.query(*sel).\\\n",
    "            filter(Measurements.station == Stations.station).filter(Measurements.date >= start_date).filter(Measurements.date <= end_date).group_by(Measurements.station).order_by(Measurements.prcp.desc()).all()\n",
    "print(precipitation('2017-07-01','2017-07-14'))"
   ]
  },
  {
   "cell_type": "code",
   "execution_count": 24,
   "metadata": {},
   "outputs": [
    {
     "data": {
      "text/plain": [
       "[(62.0, 69.15384615384616, 77.0)]"
      ]
     },
     "execution_count": 24,
     "metadata": {},
     "output_type": "execute_result"
    }
   ],
   "source": [
    "# Create a query that will calculate the daily normals \n",
    "# (i.e. the averages for tmin, tmax, and tavg for all historic data matching a specific month and day)\n",
    "\n",
    "def daily_normals(date):\n",
    "    \"\"\"Daily Normals.\n",
    "    \n",
    "    Args:\n",
    "        date (str): A date string in the format '%m-%d'\n",
    "        \n",
    "    Returns:\n",
    "        A list of tuples containing the daily normals, tmin, tavg, and tmax\n",
    "    \n",
    "    \"\"\"\n",
    "    \n",
    "    sel = [func.min(Measurements.tobs), func.avg(Measurements.tobs), func.max(Measurements.tobs)]\n",
    "    return session.query(*sel).filter(func.strftime(\"%m-%d\", Measurements.date) == date).all()\n",
    "    \n",
    "daily_normals(\"01-01\")"
   ]
  },
  {
   "cell_type": "code",
   "execution_count": 25,
   "metadata": {},
   "outputs": [
    {
     "name": "stdout",
     "output_type": "stream",
     "text": [
      "Aggregate Daily Normals for 07-01 to 07-14\n"
     ]
    },
    {
     "data": {
      "text/plain": [
       "[(67.0, 74.77777777777777, 81.0),\n",
       " (68.0, 75.40384615384616, 82.0),\n",
       " (68.0, 75.32075471698113, 87.0),\n",
       " (70.0, 76.57142857142857, 81.0),\n",
       " (66.0, 75.0, 81.0),\n",
       " (69.0, 75.0, 81.0),\n",
       " (69.0, 74.91071428571429, 82.0),\n",
       " (69.0, 76.08333333333333, 83.0),\n",
       " (68.0, 76.19298245614036, 83.0),\n",
       " (68.0, 75.62068965517241, 82.0),\n",
       " (70.0, 75.78947368421052, 81.0),\n",
       " (67.0, 75.96491228070175, 82.0),\n",
       " (69.0, 76.1896551724138, 81.0),\n",
       " (61.0, 76.2280701754386, 82.0)]"
      ]
     },
     "execution_count": 25,
     "metadata": {},
     "output_type": "execute_result"
    }
   ],
   "source": [
    "# calculate the daily normals for your trip\n",
    "# push each tuple of calculations into a list called `normals`\n",
    "\n",
    "# Set the start and end date of the trip\n",
    "start_date = '2017-07-01'\n",
    "end_date ='2017-07-14'\n",
    "# Use the start and end date to create a range of dates\n",
    "dates = session.query(Measurements.date).filter(Measurements.date >= start_date).filter(Measurements.date <= end_date).group_by(Measurements.date).all()\n",
    "trip_dates = [x[0] for x in dates]\n",
    "\n",
    "# Stip off the year and save a list of %m-%d strings\n",
    "trip_dates_stripped= [x[5:] for x in trip_dates]\n",
    "start_month_day = trip_dates_stripped[0]\n",
    "end_month_day = trip_dates_stripped[-1]\n",
    "\n",
    "# Loop through the list of %m-%d strings and calculate the normals for each date\n",
    "normals = [session.query(func.min(Measurements.tobs),\n",
    "                       func.avg(Measurements.tobs),\n",
    "                       func.max(Measurements.tobs)).filter(func.strftime(\"%m-%d\", Measurements.date) >= start_month_day).filter(func.strftime(\"%m-%d\", Measurements.date) <= end_month_day).group_by(func.strftime(\"%m-%d\", Measurements.date)).all()]\n",
    "\n",
    "normals = normals[0]\n",
    "print(\"Aggregate Daily Normals for 07-01 to 07-14\")\n",
    "normals"
   ]
  },
  {
   "cell_type": "code",
   "execution_count": 26,
   "metadata": {},
   "outputs": [
    {
     "data": {
      "text/html": [
       "<div>\n",
       "<style scoped>\n",
       "    .dataframe tbody tr th:only-of-type {\n",
       "        vertical-align: middle;\n",
       "    }\n",
       "\n",
       "    .dataframe tbody tr th {\n",
       "        vertical-align: top;\n",
       "    }\n",
       "\n",
       "    .dataframe thead th {\n",
       "        text-align: right;\n",
       "    }\n",
       "</style>\n",
       "<table border=\"1\" class=\"dataframe\">\n",
       "  <thead>\n",
       "    <tr style=\"text-align: right;\">\n",
       "      <th></th>\n",
       "      <th>tmin</th>\n",
       "      <th>tavg</th>\n",
       "      <th>tmax</th>\n",
       "    </tr>\n",
       "    <tr>\n",
       "      <th>date</th>\n",
       "      <th></th>\n",
       "      <th></th>\n",
       "      <th></th>\n",
       "    </tr>\n",
       "  </thead>\n",
       "  <tbody>\n",
       "    <tr>\n",
       "      <th>2017-07-01</th>\n",
       "      <td>67.0</td>\n",
       "      <td>74.777778</td>\n",
       "      <td>81.0</td>\n",
       "    </tr>\n",
       "    <tr>\n",
       "      <th>2017-07-02</th>\n",
       "      <td>68.0</td>\n",
       "      <td>75.403846</td>\n",
       "      <td>82.0</td>\n",
       "    </tr>\n",
       "    <tr>\n",
       "      <th>2017-07-03</th>\n",
       "      <td>68.0</td>\n",
       "      <td>75.320755</td>\n",
       "      <td>87.0</td>\n",
       "    </tr>\n",
       "    <tr>\n",
       "      <th>2017-07-04</th>\n",
       "      <td>70.0</td>\n",
       "      <td>76.571429</td>\n",
       "      <td>81.0</td>\n",
       "    </tr>\n",
       "    <tr>\n",
       "      <th>2017-07-05</th>\n",
       "      <td>66.0</td>\n",
       "      <td>75.000000</td>\n",
       "      <td>81.0</td>\n",
       "    </tr>\n",
       "    <tr>\n",
       "      <th>2017-07-06</th>\n",
       "      <td>69.0</td>\n",
       "      <td>75.000000</td>\n",
       "      <td>81.0</td>\n",
       "    </tr>\n",
       "    <tr>\n",
       "      <th>2017-07-07</th>\n",
       "      <td>69.0</td>\n",
       "      <td>74.910714</td>\n",
       "      <td>82.0</td>\n",
       "    </tr>\n",
       "    <tr>\n",
       "      <th>2017-07-08</th>\n",
       "      <td>69.0</td>\n",
       "      <td>76.083333</td>\n",
       "      <td>83.0</td>\n",
       "    </tr>\n",
       "    <tr>\n",
       "      <th>2017-07-09</th>\n",
       "      <td>68.0</td>\n",
       "      <td>76.192982</td>\n",
       "      <td>83.0</td>\n",
       "    </tr>\n",
       "    <tr>\n",
       "      <th>2017-07-10</th>\n",
       "      <td>68.0</td>\n",
       "      <td>75.620690</td>\n",
       "      <td>82.0</td>\n",
       "    </tr>\n",
       "    <tr>\n",
       "      <th>2017-07-11</th>\n",
       "      <td>70.0</td>\n",
       "      <td>75.789474</td>\n",
       "      <td>81.0</td>\n",
       "    </tr>\n",
       "    <tr>\n",
       "      <th>2017-07-12</th>\n",
       "      <td>67.0</td>\n",
       "      <td>75.964912</td>\n",
       "      <td>82.0</td>\n",
       "    </tr>\n",
       "    <tr>\n",
       "      <th>2017-07-13</th>\n",
       "      <td>69.0</td>\n",
       "      <td>76.189655</td>\n",
       "      <td>81.0</td>\n",
       "    </tr>\n",
       "    <tr>\n",
       "      <th>2017-07-14</th>\n",
       "      <td>61.0</td>\n",
       "      <td>76.228070</td>\n",
       "      <td>82.0</td>\n",
       "    </tr>\n",
       "  </tbody>\n",
       "</table>\n",
       "</div>"
      ],
      "text/plain": [
       "            tmin       tavg  tmax\n",
       "date                             \n",
       "2017-07-01  67.0  74.777778  81.0\n",
       "2017-07-02  68.0  75.403846  82.0\n",
       "2017-07-03  68.0  75.320755  87.0\n",
       "2017-07-04  70.0  76.571429  81.0\n",
       "2017-07-05  66.0  75.000000  81.0\n",
       "2017-07-06  69.0  75.000000  81.0\n",
       "2017-07-07  69.0  74.910714  82.0\n",
       "2017-07-08  69.0  76.083333  83.0\n",
       "2017-07-09  68.0  76.192982  83.0\n",
       "2017-07-10  68.0  75.620690  82.0\n",
       "2017-07-11  70.0  75.789474  81.0\n",
       "2017-07-12  67.0  75.964912  82.0\n",
       "2017-07-13  69.0  76.189655  81.0\n",
       "2017-07-14  61.0  76.228070  82.0"
      ]
     },
     "execution_count": 26,
     "metadata": {},
     "output_type": "execute_result"
    }
   ],
   "source": [
    "# Load the previous query results into a Pandas DataFrame and add the `trip_dates` range as the `date` index\n",
    "normals_df= pd.DataFrame(normals,columns=['tmin', 'tavg', 'tmax'])\n",
    "\n",
    "normals_df['date']= trip_dates\n",
    "\n",
    "normals_df['date'] = pd.to_datetime(normals_df['date'], format='%Y-%m-%d')\n",
    "\n",
    "normals_df.set_index('date',inplace=True)\n",
    "\n",
    "normals_df"
   ]
  },
  {
   "cell_type": "code",
   "execution_count": 27,
   "metadata": {},
   "outputs": [
    {
     "data": {
      "image/png": "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\n",
      "text/plain": [
       "<Figure size 432x288 with 1 Axes>"
      ]
     },
     "metadata": {},
     "output_type": "display_data"
    }
   ],
   "source": [
    "# Plot the daily normals as an area plot with `stacked=False`\n",
    "normals_df.plot(kind='area', alpha=.2, stacked=False, x_compat=True, title=\"Aggregate Normals for Trip Dates\")\n",
    "plt.tight_layout()\n",
    "plt.show()"
   ]
  },
  {
   "cell_type": "code",
   "execution_count": null,
   "metadata": {},
   "outputs": [],
   "source": []
  }
 ],
 "metadata": {
  "kernel_info": {
   "name": "python3"
  },
  "kernelspec": {
   "display_name": "Python 3",
   "language": "python",
   "name": "python3"
  },
  "language_info": {
   "codemirror_mode": {
    "name": "ipython",
    "version": 3
   },
   "file_extension": ".py",
   "mimetype": "text/x-python",
   "name": "python",
   "nbconvert_exporter": "python",
   "pygments_lexer": "ipython3",
   "version": "3.6.10"
  },
  "nteract": {
   "version": "0.12.3"
  },
  "varInspector": {
   "cols": {
    "lenName": 16,
    "lenType": 16,
    "lenVar": 40
   },
   "kernels_config": {
    "python": {
     "delete_cmd_postfix": "",
     "delete_cmd_prefix": "del ",
     "library": "var_list.py",
     "varRefreshCmd": "print(var_dic_list())"
    },
    "r": {
     "delete_cmd_postfix": ") ",
     "delete_cmd_prefix": "rm(",
     "library": "var_list.r",
     "varRefreshCmd": "cat(var_dic_list()) "
    }
   },
   "types_to_exclude": [
    "module",
    "function",
    "builtin_function_or_method",
    "instance",
    "_Feature"
   ],
   "window_display": false
  }
 },
 "nbformat": 4,
 "nbformat_minor": 4
}
